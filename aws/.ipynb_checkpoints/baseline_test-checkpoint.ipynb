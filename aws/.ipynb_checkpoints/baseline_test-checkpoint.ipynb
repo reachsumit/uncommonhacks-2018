{
 "cells": [
  {
   "cell_type": "code",
   "execution_count": 10,
   "metadata": {
    "collapsed": true
   },
   "outputs": [],
   "source": [
    "from dejavu import Dejavu"
   ]
  },
  {
   "cell_type": "code",
   "execution_count": 11,
   "metadata": {
    "collapsed": true
   },
   "outputs": [],
   "source": [
    "config = {\n",
    "     \"database\": {\n",
    "         \"host\": \"uncommonhacksdb.csc6seakwleg.us-east-1.rds.amazonaws.com\",\n",
    "         \"user\": \"root\",\n",
    "         \"passwd\": \"uncommonpassword\", \n",
    "         \"db\": \"uncommonhacksdb\",\n",
    "     },\n",
    "     \"database_type\" : \"mysql\",\n",
    "     \"fingerprint_limit\" : 10\n",
    "    }"
   ]
  },
  {
   "cell_type": "code",
   "execution_count": 12,
   "metadata": {},
   "outputs": [
    {
     "name": "stderr",
     "output_type": "stream",
     "text": [
      "/home/sumit/anaconda3/envs/py27/lib/python2.7/site-packages/dejavu/database_sql.py:158: Warning: Table 'songs' already exists\n",
      "  cur.execute(self.CREATE_SONGS_TABLE)\n",
      "/home/sumit/anaconda3/envs/py27/lib/python2.7/site-packages/dejavu/database_sql.py:159: Warning: Table 'fingerprints' already exists\n",
      "  cur.execute(self.CREATE_FINGERPRINTS_TABLE)\n"
     ]
    }
   ],
   "source": [
    "djv = Dejavu(config)"
   ]
  },
  {
   "cell_type": "code",
   "execution_count": 18,
   "metadata": {},
   "outputs": [
    {
     "name": "stdout",
     "output_type": "stream",
     "text": [
      "train_audio/door_bell_1.mp3 already fingerprinted, continuing...\n",
      "train_audio/door_bell_2.wav already fingerprinted, continuing...\n",
      "Fingerprinting channel 1/2 for train_audio/car_horn_1.mp3\n",
      "Finished channel 1/2 for train_audio/car_horn_1.mp3\n",
      "Fingerprinting channel 2/2 for train_audio/car_horn_1.mp3\n",
      "Finished channel 2/2 for train_audio/car_horn_1.mp3\n"
     ]
    }
   ],
   "source": [
    "djv.fingerprint_directory(\"train_audio\", [\".mp3\",\".wav\"])"
   ]
  },
  {
   "cell_type": "code",
   "execution_count": 4,
   "metadata": {},
   "outputs": [
    {
     "name": "stdout",
     "output_type": "stream",
     "text": [
      "baseline_test.ipynb  README.md  \u001b[0m\u001b[01;34mtrain_audio\u001b[0m/\r\n"
     ]
    }
   ],
   "source": [
    "ls"
   ]
  },
  {
   "cell_type": "code",
   "execution_count": 6,
   "metadata": {
    "collapsed": true
   },
   "outputs": [],
   "source": [
    "import numpy"
   ]
  },
  {
   "cell_type": "code",
   "execution_count": 7,
   "metadata": {},
   "outputs": [
    {
     "data": {
      "text/plain": [
       "'1.8.2'"
      ]
     },
     "execution_count": 7,
     "metadata": {},
     "output_type": "execute_result"
    }
   ],
   "source": [
    "numpy.version.version"
   ]
  },
  {
   "cell_type": "code",
   "execution_count": 8,
   "metadata": {},
   "outputs": [
    {
     "name": "stdout",
     "output_type": "stream",
     "text": [
      "344\n"
     ]
    }
   ],
   "source": [
    "print djv.db.get_num_fingerprints()"
   ]
  },
  {
   "cell_type": "code",
   "execution_count": 9,
   "metadata": {
    "collapsed": true
   },
   "outputs": [],
   "source": [
    "from dejavu.recognize import FileRecognizer"
   ]
  },
  {
   "cell_type": "code",
   "execution_count": 19,
   "metadata": {},
   "outputs": [],
   "source": [
    "song = djv.recognize(FileRecognizer, \"train_audio/door_bell_1.mp3\")"
   ]
  },
  {
   "cell_type": "code",
   "execution_count": 20,
   "metadata": {},
   "outputs": [
    {
     "data": {
      "text/plain": [
       "{'confidence': 364,\n",
       " 'file_sha1': '9F36A3868B0AC49E21484F3357CE4BEF7CECD828',\n",
       " 'match_time': 2.652198076248169,\n",
       " 'offset': 0,\n",
       " 'offset_seconds': 0.0,\n",
       " 'song_id': 1,\n",
       " 'song_name': 'door_bell_1'}"
      ]
     },
     "execution_count": 20,
     "metadata": {},
     "output_type": "execute_result"
    }
   ],
   "source": [
    "song"
   ]
  },
  {
   "cell_type": "code",
   "execution_count": 21,
   "metadata": {
    "collapsed": true
   },
   "outputs": [],
   "source": [
    "from dejavu.recognize import MicrophoneRecognizer"
   ]
  },
  {
   "cell_type": "code",
   "execution_count": 22,
   "metadata": {
    "collapsed": true
   },
   "outputs": [],
   "source": [
    "song = djv.recognize(MicrophoneRecognizer, seconds=5) # Defaults to 10 seconds."
   ]
  },
  {
   "cell_type": "code",
   "execution_count": null,
   "metadata": {
    "collapsed": true
   },
   "outputs": [],
   "source": []
  },
  {
   "cell_type": "code",
   "execution_count": null,
   "metadata": {
    "collapsed": true
   },
   "outputs": [],
   "source": []
  },
  {
   "cell_type": "code",
   "execution_count": null,
   "metadata": {
    "collapsed": true
   },
   "outputs": [],
   "source": []
  },
  {
   "cell_type": "code",
   "execution_count": null,
   "metadata": {
    "collapsed": true
   },
   "outputs": [],
   "source": []
  },
  {
   "cell_type": "code",
   "execution_count": null,
   "metadata": {
    "collapsed": true
   },
   "outputs": [],
   "source": []
  },
  {
   "cell_type": "code",
   "execution_count": null,
   "metadata": {
    "collapsed": true
   },
   "outputs": [],
   "source": []
  }
 ],
 "metadata": {
  "kernelspec": {
   "display_name": "Python [conda env:py27]",
   "language": "python",
   "name": "conda-env-py27-py"
  },
  "language_info": {
   "codemirror_mode": {
    "name": "ipython",
    "version": 2
   },
   "file_extension": ".py",
   "mimetype": "text/x-python",
   "name": "python",
   "nbconvert_exporter": "python",
   "pygments_lexer": "ipython2",
   "version": "2.7.14"
  }
 },
 "nbformat": 4,
 "nbformat_minor": 2
}
