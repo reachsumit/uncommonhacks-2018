{
 "cells": [
  {
   "cell_type": "code",
   "execution_count": 1,
   "metadata": {
    "collapsed": true
   },
   "outputs": [],
   "source": [
    "import ConfigParser"
   ]
  },
  {
   "cell_type": "code",
   "execution_count": 2,
   "metadata": {},
   "outputs": [
    {
     "data": {
      "text/plain": [
       "['configuration.config']"
      ]
     },
     "execution_count": 2,
     "metadata": {},
     "output_type": "execute_result"
    }
   ],
   "source": [
    "config = ConfigParser.ConfigParser()\n",
    "config.read(\"configuration.config\")"
   ]
  },
  {
   "cell_type": "code",
   "execution_count": 3,
   "metadata": {
    "collapsed": true
   },
   "outputs": [],
   "source": [
    "from dejavu import Dejavu"
   ]
  },
  {
   "cell_type": "code",
   "execution_count": 4,
   "metadata": {
    "collapsed": true
   },
   "outputs": [],
   "source": [
    "config = {\n",
    "     \"database\": {\n",
    "         \"host\": config.get(\"configuration\",\"aws_db_host\"),\n",
    "         \"user\": config.get(\"configuration\",\"aws_db_user\"),\n",
    "         \"passwd\": config.get(\"configuration\",\"aws_db_pwd\"), \n",
    "         \"db\": config.get(\"configuration\",\"aws_db_name\"),\n",
    "     },\n",
    "     \"database_type\" : \"mysql\",\n",
    "     \"fingerprint_limit\" : 10\n",
    "    }"
   ]
  },
  {
   "cell_type": "code",
   "execution_count": 5,
   "metadata": {},
   "outputs": [
    {
     "name": "stderr",
     "output_type": "stream",
     "text": [
      "/home/sumit/anaconda3/envs/py27/lib/python2.7/site-packages/dejavu/database_sql.py:158: Warning: Table 'songs' already exists\n",
      "  cur.execute(self.CREATE_SONGS_TABLE)\n",
      "/home/sumit/anaconda3/envs/py27/lib/python2.7/site-packages/dejavu/database_sql.py:159: Warning: Table 'fingerprints' already exists\n",
      "  cur.execute(self.CREATE_FINGERPRINTS_TABLE)\n"
     ]
    }
   ],
   "source": [
    "djv = Dejavu(config)"
   ]
  },
  {
   "cell_type": "code",
   "execution_count": 6,
   "metadata": {},
   "outputs": [
    {
     "name": "stdout",
     "output_type": "stream",
     "text": [
      "train_audio/door_bell_1.mp3 already fingerprinted, continuing...\n",
      "train_audio/car_horn_1.mp3 already fingerprinted, continuing...\n",
      "train_audio/baby_crying_2.mp3 already fingerprinted, continuing...\n",
      "train_audio/car_horn_2.mp3 already fingerprinted, continuing...\n",
      "train_audio/baby_crying_1.mp3 already fingerprinted, continuing...\n",
      "train_audio/door_bell_2.wav already fingerprinted, continuing...\n"
     ]
    }
   ],
   "source": [
    "djv.fingerprint_directory(\"train_audio\", [\".mp3\",\".wav\"])"
   ]
  },
  {
   "cell_type": "code",
   "execution_count": 7,
   "metadata": {},
   "outputs": [
    {
     "name": "stdout",
     "output_type": "stream",
     "text": [
      "\u001b[0m\u001b[01;34maudio_merged\u001b[0m/    baseline_test.ipynb       configuration.config  README.md\r\n",
      "\u001b[01;34maudio_separate\u001b[0m/  baseline_train_audio.sql  main.py               \u001b[01;34mtrain_audio\u001b[0m/\r\n"
     ]
    }
   ],
   "source": [
    "ls"
   ]
  },
  {
   "cell_type": "code",
   "execution_count": 8,
   "metadata": {
    "collapsed": true
   },
   "outputs": [],
   "source": [
    "import numpy"
   ]
  },
  {
   "cell_type": "code",
   "execution_count": 9,
   "metadata": {},
   "outputs": [
    {
     "data": {
      "text/plain": [
       "'1.8.2'"
      ]
     },
     "execution_count": 9,
     "metadata": {},
     "output_type": "execute_result"
    }
   ],
   "source": [
    "numpy.version.version"
   ]
  },
  {
   "cell_type": "code",
   "execution_count": 10,
   "metadata": {},
   "outputs": [
    {
     "name": "stdout",
     "output_type": "stream",
     "text": [
      "4355\n"
     ]
    }
   ],
   "source": [
    "print djv.db.get_num_fingerprints()"
   ]
  },
  {
   "cell_type": "code",
   "execution_count": 11,
   "metadata": {
    "collapsed": true
   },
   "outputs": [],
   "source": [
    "from dejavu.recognize import FileRecognizer"
   ]
  },
  {
   "cell_type": "code",
   "execution_count": 18,
   "metadata": {},
   "outputs": [],
   "source": [
    "song = djv.recognize(FileRecognizer, \"train_audio/door_bell_2.wav\")"
   ]
  },
  {
   "cell_type": "code",
   "execution_count": 19,
   "metadata": {},
   "outputs": [
    {
     "data": {
      "text/plain": [
       "{'confidence': 406,\n",
       " 'file_sha1': '6F9223CF7F025A99DE47C63EED18F511E9482B17',\n",
       " 'match_time': 0.6951229572296143,\n",
       " 'offset': 0,\n",
       " 'offset_seconds': 0.0,\n",
       " 'song_id': 1,\n",
       " 'song_name': 'door_bell_2'}"
      ]
     },
     "execution_count": 19,
     "metadata": {},
     "output_type": "execute_result"
    }
   ],
   "source": [
    "song"
   ]
  },
  {
   "cell_type": "code",
   "execution_count": 28,
   "metadata": {
    "collapsed": true
   },
   "outputs": [],
   "source": [
    "from dejavu.recognize import MicrophoneRecognizer"
   ]
  },
  {
   "cell_type": "code",
   "execution_count": 29,
   "metadata": {
    "collapsed": true
   },
   "outputs": [],
   "source": [
    "song = djv.recognize(MicrophoneRecognizer, seconds=5)"
   ]
  },
  {
   "cell_type": "code",
   "execution_count": 30,
   "metadata": {},
   "outputs": [
    {
     "data": {
      "text/plain": [
       "{'confidence': 1,\n",
       " 'file_sha1': '16B0347DC944F8289E42392B0E71382A3954B11B',\n",
       " 'offset': -58,\n",
       " 'offset_seconds': -2.69351,\n",
       " 'song_id': 2,\n",
       " 'song_name': 'baby_crying_1'}"
      ]
     },
     "execution_count": 30,
     "metadata": {},
     "output_type": "execute_result"
    }
   ],
   "source": [
    "song"
   ]
  },
  {
   "cell_type": "code",
   "execution_count": null,
   "metadata": {
    "collapsed": true
   },
   "outputs": [],
   "source": [
    "song"
   ]
  },
  {
   "cell_type": "code",
   "execution_count": 27,
   "metadata": {},
   "outputs": [],
   "source": [
    "djv.recognize(MicrophoneRecognizer, seconds=5)"
   ]
  },
  {
   "cell_type": "code",
   "execution_count": null,
   "metadata": {
    "collapsed": true
   },
   "outputs": [],
   "source": []
  },
  {
   "cell_type": "code",
   "execution_count": null,
   "metadata": {
    "collapsed": true
   },
   "outputs": [],
   "source": []
  },
  {
   "cell_type": "code",
   "execution_count": null,
   "metadata": {
    "collapsed": true
   },
   "outputs": [],
   "source": []
  }
 ],
 "metadata": {
  "kernelspec": {
   "display_name": "Python [conda env:py27]",
   "language": "python",
   "name": "conda-env-py27-py"
  },
  "language_info": {
   "codemirror_mode": {
    "name": "ipython",
    "version": 2
   },
   "file_extension": ".py",
   "mimetype": "text/x-python",
   "name": "python",
   "nbconvert_exporter": "python",
   "pygments_lexer": "ipython2",
   "version": "2.7.14"
  }
 },
 "nbformat": 4,
 "nbformat_minor": 2
}
